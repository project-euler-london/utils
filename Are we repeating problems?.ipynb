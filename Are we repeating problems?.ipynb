{
 "cells": [
  {
   "cell_type": "markdown",
   "metadata": {},
   "source": [
    "# Are we repeating problems?\n",
    "\n",
    "Our of the following target problems, have we already chosen any of them in a previous session?"
   ]
  },
  {
   "cell_type": "code",
   "execution_count": 1,
   "metadata": {},
   "outputs": [],
   "source": [
    "target_problems = [93, 157, 560]"
   ]
  },
  {
   "cell_type": "code",
   "execution_count": 2,
   "metadata": {},
   "outputs": [],
   "source": [
    "import time\n",
    "import re\n",
    "from selenium import webdriver\n",
    "from selenium.webdriver.common.keys import Keys\n",
    "from webdriver_manager.chrome import ChromeDriverManager"
   ]
  },
  {
   "cell_type": "markdown",
   "metadata": {},
   "source": [
    "## Read past problems"
   ]
  },
  {
   "cell_type": "code",
   "execution_count": 3,
   "metadata": {},
   "outputs": [],
   "source": [
    "url = 'https://www.meetup.com/project_euler/events/past/'"
   ]
  },
  {
   "cell_type": "code",
   "execution_count": 4,
   "metadata": {},
   "outputs": [
    {
     "name": "stdout",
     "output_type": "stream",
     "text": [
      "\n",
      "Looking for [chromedriver 79.0.3945.36 linux64] driver in cache \n",
      "File found in cache by path [/home/r83/.wdm/drivers/chromedriver/79.0.3945.36/linux64/chromedriver]\n"
     ]
    }
   ],
   "source": [
    "# init driver\n",
    "browser = webdriver.Chrome(ChromeDriverManager().install())\n",
    "browser.get(url)"
   ]
  },
  {
   "cell_type": "code",
   "execution_count": 5,
   "metadata": {},
   "outputs": [],
   "source": [
    "# automatic scrolling to reach first meetup\n",
    "elem = browser.find_element_by_tag_name(\"body\")\n",
    "\n",
    "nr_page_downs = 10\n",
    "while nr_page_downs:\n",
    "    time.sleep(2)\n",
    "    elem.send_keys(Keys.PAGE_DOWN)\n",
    "    nr_page_downs -= 1"
   ]
  },
  {
   "cell_type": "code",
   "execution_count": 6,
   "metadata": {},
   "outputs": [
    {
     "name": "stdout",
     "output_type": "stream",
     "text": [
      "Project Euler 67, 185 and 511\n",
      "Project Euler 39, 239 and 679\n",
      "Project Euler 15, 107 and 459\n",
      "Project Euler 59, 191, 271\n",
      "Project Euler 89, 139, 267\n",
      "Project Euler 35, 243, 363\n",
      "Project Euler 62, 257 and 263\n",
      "Project Euler 34, 76 and 131\n",
      "Project Euler 65, 201 and 357\n",
      "Project Euler 97, 270 and 421\n",
      "Project Euler 28, 203 and 475\n",
      "Project Euler 36, 187 and 364\n",
      "Project Euler 27, 112 and 321\n",
      "Project Euler 51, 94 and 430\n",
      "Project Euler 30, 314 and 599\n",
      "Project Euler 129, 269, and 396\n",
      "Project Euler 61, 264 and 511\n",
      "Project Euler 41, 227 and 449\n",
      "Project Euler 82, 181 and 367\n",
      "Project Euler 116, 430 and 613\n",
      "Project Euler 24, 286 and 299\n",
      "Project Euler 48, 345 and 587\n",
      "Project Euler 108, 331 and 569\n",
      "Project Euler 78, 164 and 205\n",
      "Project Euler 66, 79 and 551\n",
      "Project Euler 100, 122 and 436\n",
      "Project Euler 85, 221 and 296\n",
      "Project Euler 114, 232 and 359\n",
      "Project Euler 128, 138 and 143\n",
      "Project Euler 91, 208 and 312\n",
      "Project Euler 44, 139 and 249\n",
      "Project Euler 18, 107 and 146\n",
      "Workshop: Building serverless APIs with AWS Lambda\n",
      "CREST/PWL Special Event\n",
      "January meetup: Andrew Pillar shows how he implemented the //go:embed pragma\n"
     ]
    }
   ],
   "source": [
    "# extract titles\n",
    "titles = browser.find_elements_by_class_name(\"eventCardHead--title\")\n",
    "for title in titles:\n",
    "    print(title.text)"
   ]
  },
  {
   "cell_type": "code",
   "execution_count": 7,
   "metadata": {},
   "outputs": [
    {
     "data": {
      "text/plain": [
       "35"
      ]
     },
     "execution_count": 7,
     "metadata": {},
     "output_type": "execute_result"
    }
   ],
   "source": [
    "len(titles)"
   ]
  },
  {
   "cell_type": "code",
   "execution_count": 8,
   "metadata": {},
   "outputs": [],
   "source": [
    "# parse titles and retrieve the problems' numbers\n",
    "regex = \"[0-9]*\"\n",
    "def parse_title(title):\n",
    "    \"\"\"Returns the 3 problems contained in title.\"\"\"\n",
    "    return [int(s) for s in re.findall(regex, title) if s and 'Project' in title]\n",
    "\n",
    "problems = [parse_title(t.text) for t in titles]\n",
    "browser.close()  # close browser"
   ]
  },
  {
   "cell_type": "code",
   "execution_count": 9,
   "metadata": {},
   "outputs": [
    {
     "data": {
      "text/plain": [
       "96"
      ]
     },
     "execution_count": 9,
     "metadata": {},
     "output_type": "execute_result"
    }
   ],
   "source": [
    "problems_flat = [nr for l in problems for nr in l]\n",
    "len(problems_flat)"
   ]
  },
  {
   "cell_type": "markdown",
   "metadata": {},
   "source": [
    "## Have we already chosen the problems?\n",
    "\n",
    "If we choose manually the problems, have we already chosen them in a previous meetup? It's False if we never have used them."
   ]
  },
  {
   "cell_type": "code",
   "execution_count": 10,
   "metadata": {},
   "outputs": [
    {
     "data": {
      "text/plain": [
       "False"
      ]
     },
     "execution_count": 10,
     "metadata": {},
     "output_type": "execute_result"
    }
   ],
   "source": [
    "len([1 for _ in target_problems if _ not in problems_flat]) < 3"
   ]
  }
 ],
 "metadata": {
  "kernelspec": {
   "display_name": "Python 3",
   "language": "python",
   "name": "python3"
  },
  "language_info": {
   "codemirror_mode": {
    "name": "ipython",
    "version": 3
   },
   "file_extension": ".py",
   "mimetype": "text/x-python",
   "name": "python",
   "nbconvert_exporter": "python",
   "pygments_lexer": "ipython3",
   "version": "3.7.4"
  }
 },
 "nbformat": 4,
 "nbformat_minor": 2
}
